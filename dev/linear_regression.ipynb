{
 "cells": [
  {
   "cell_type": "code",
   "execution_count": 13,
   "metadata": {
    "collapsed": true,
    "pycharm": {
     "is_executing": false
    }
   },
   "outputs": [
    {
     "data": {
      "text/plain": "                 usd  term_spread      gold\nDATE                                       \n2000-02-01  0.012773    -1.409091  0.057152\n2000-03-01 -0.000113     2.000000 -0.047034\n2000-04-01  0.005633     0.518519 -0.023520\n2000-05-01  0.022018    -0.097561 -0.016675\n2000-06-01 -0.010116     0.027027  0.036599",
      "text/html": "<div>\n<style scoped>\n    .dataframe tbody tr th:only-of-type {\n        vertical-align: middle;\n    }\n\n    .dataframe tbody tr th {\n        vertical-align: top;\n    }\n\n    .dataframe thead th {\n        text-align: right;\n    }\n</style>\n<table border=\"1\" class=\"dataframe\">\n  <thead>\n    <tr style=\"text-align: right;\">\n      <th></th>\n      <th>usd</th>\n      <th>term_spread</th>\n      <th>gold</th>\n    </tr>\n    <tr>\n      <th>DATE</th>\n      <th></th>\n      <th></th>\n      <th></th>\n    </tr>\n  </thead>\n  <tbody>\n    <tr>\n      <th>2000-02-01</th>\n      <td>0.012773</td>\n      <td>-1.409091</td>\n      <td>0.057152</td>\n    </tr>\n    <tr>\n      <th>2000-03-01</th>\n      <td>-0.000113</td>\n      <td>2.000000</td>\n      <td>-0.047034</td>\n    </tr>\n    <tr>\n      <th>2000-04-01</th>\n      <td>0.005633</td>\n      <td>0.518519</td>\n      <td>-0.023520</td>\n    </tr>\n    <tr>\n      <th>2000-05-01</th>\n      <td>0.022018</td>\n      <td>-0.097561</td>\n      <td>-0.016675</td>\n    </tr>\n    <tr>\n      <th>2000-06-01</th>\n      <td>-0.010116</td>\n      <td>0.027027</td>\n      <td>0.036599</td>\n    </tr>\n  </tbody>\n</table>\n</div>"
     },
     "metadata": {},
     "output_type": "display_data"
    },
    {
     "name": "stdout",
     "text": [
      "https://fred.stlouisfed.org/graph/fredgraph.csv?fq=Monthly,Monthly,Monthly&id=TWEXBMTH,T10Y2YM,GOLDAMGBD228NLBM&cosd=2000-01-01&coed=2019-02-01\n"
     ],
     "output_type": "stream"
    }
   ],
   "source": [
    "import urllib.parse\n",
    "import pandas as pd\n",
    "from IPython.core.display import display\n",
    "from pyfinance.ols import PandasRollingOLS\n",
    "\n",
    "# You can also do this with pandas-datareader; here's the hard way\n",
    "url = \"https://fred.stlouisfed.org/graph/fredgraph.csv\"\n",
    "\n",
    "syms = {\n",
    "    \"TWEXBMTH\" : \"usd\", \n",
    "    \"T10Y2YM\" : \"term_spread\", \n",
    "    \"GOLDAMGBD228NLBM\" : \"gold\",\n",
    "}\n",
    "\n",
    "params = {\n",
    "    \"fq\": \"Monthly,Monthly,Monthly\",\n",
    "    \"id\": \",\".join(syms.keys()),\n",
    "    \"cosd\": \"2000-01-01\",\n",
    "    \"coed\": \"2019-02-01\",\n",
    "}\n",
    "\n",
    "data = pd.read_csv(\n",
    "    url + \"?\" + urllib.parse.urlencode(params, safe=\",\"),\n",
    "    na_values={\".\"},\n",
    "    parse_dates=[\"DATE\"],\n",
    "    index_col=0\n",
    ").pct_change().dropna().rename(columns=syms)\n",
    "display(data.head())\n",
    "\n",
    "print (url + \"?\" + urllib.parse.urlencode(params, safe=\",\"))"
   ]
  },
  {
   "cell_type": "code",
   "execution_count": 12,
   "outputs": [
    {
     "data": {
      "text/plain": "                 usd  term_spread      gold\nDATE                                       \n2000-02-01  0.012773    -1.409091  0.057152\n2000-03-01 -0.000113     2.000000 -0.047034\n2000-04-01  0.005633     0.518519 -0.023520\n2000-05-01  0.022018    -0.097561 -0.016675\n2000-06-01 -0.010116     0.027027  0.036599\n...              ...          ...       ...\n2020-03-01  0.000000     1.470588 -0.004161\n2020-04-01  0.000000     0.047619  0.054127\n2020-05-01  0.000000     0.136364  0.021230\n2020-06-01  0.000000     0.100000  0.010686\n2020-07-01  0.000000     0.000000  0.051229\n\n[246 rows x 3 columns]",
      "text/html": "<div>\n<style scoped>\n    .dataframe tbody tr th:only-of-type {\n        vertical-align: middle;\n    }\n\n    .dataframe tbody tr th {\n        vertical-align: top;\n    }\n\n    .dataframe thead th {\n        text-align: right;\n    }\n</style>\n<table border=\"1\" class=\"dataframe\">\n  <thead>\n    <tr style=\"text-align: right;\">\n      <th></th>\n      <th>usd</th>\n      <th>term_spread</th>\n      <th>gold</th>\n    </tr>\n    <tr>\n      <th>DATE</th>\n      <th></th>\n      <th></th>\n      <th></th>\n    </tr>\n  </thead>\n  <tbody>\n    <tr>\n      <th>2000-02-01</th>\n      <td>0.012773</td>\n      <td>-1.409091</td>\n      <td>0.057152</td>\n    </tr>\n    <tr>\n      <th>2000-03-01</th>\n      <td>-0.000113</td>\n      <td>2.000000</td>\n      <td>-0.047034</td>\n    </tr>\n    <tr>\n      <th>2000-04-01</th>\n      <td>0.005633</td>\n      <td>0.518519</td>\n      <td>-0.023520</td>\n    </tr>\n    <tr>\n      <th>2000-05-01</th>\n      <td>0.022018</td>\n      <td>-0.097561</td>\n      <td>-0.016675</td>\n    </tr>\n    <tr>\n      <th>2000-06-01</th>\n      <td>-0.010116</td>\n      <td>0.027027</td>\n      <td>0.036599</td>\n    </tr>\n    <tr>\n      <th>...</th>\n      <td>...</td>\n      <td>...</td>\n      <td>...</td>\n    </tr>\n    <tr>\n      <th>2020-03-01</th>\n      <td>0.000000</td>\n      <td>1.470588</td>\n      <td>-0.004161</td>\n    </tr>\n    <tr>\n      <th>2020-04-01</th>\n      <td>0.000000</td>\n      <td>0.047619</td>\n      <td>0.054127</td>\n    </tr>\n    <tr>\n      <th>2020-05-01</th>\n      <td>0.000000</td>\n      <td>0.136364</td>\n      <td>0.021230</td>\n    </tr>\n    <tr>\n      <th>2020-06-01</th>\n      <td>0.000000</td>\n      <td>0.100000</td>\n      <td>0.010686</td>\n    </tr>\n    <tr>\n      <th>2020-07-01</th>\n      <td>0.000000</td>\n      <td>0.000000</td>\n      <td>0.051229</td>\n    </tr>\n  </tbody>\n</table>\n<p>246 rows × 3 columns</p>\n</div>"
     },
     "metadata": {},
     "output_type": "display_data"
    },
    {
     "data": {
      "text/plain": "            term_spread      gold\nDATE                             \n2001-01-01     0.000031 -0.053032\n2001-02-01     0.000277 -0.188555\n2001-03-01     0.002432 -0.294864\n2001-04-01     0.002796 -0.334882\n2001-05-01     0.002448 -0.241902",
      "text/html": "<div>\n<style scoped>\n    .dataframe tbody tr th:only-of-type {\n        vertical-align: middle;\n    }\n\n    .dataframe tbody tr th {\n        vertical-align: top;\n    }\n\n    .dataframe thead th {\n        text-align: right;\n    }\n</style>\n<table border=\"1\" class=\"dataframe\">\n  <thead>\n    <tr style=\"text-align: right;\">\n      <th></th>\n      <th>term_spread</th>\n      <th>gold</th>\n    </tr>\n    <tr>\n      <th>DATE</th>\n      <th></th>\n      <th></th>\n    </tr>\n  </thead>\n  <tbody>\n    <tr>\n      <th>2001-01-01</th>\n      <td>0.000031</td>\n      <td>-0.053032</td>\n    </tr>\n    <tr>\n      <th>2001-02-01</th>\n      <td>0.000277</td>\n      <td>-0.188555</td>\n    </tr>\n    <tr>\n      <th>2001-03-01</th>\n      <td>0.002432</td>\n      <td>-0.294864</td>\n    </tr>\n    <tr>\n      <th>2001-04-01</th>\n      <td>0.002796</td>\n      <td>-0.334882</td>\n    </tr>\n    <tr>\n      <th>2001-05-01</th>\n      <td>0.002448</td>\n      <td>-0.241902</td>\n    </tr>\n  </tbody>\n</table>\n</div>"
     },
     "metadata": {},
     "output_type": "display_data"
    }
   ],
   "source": [
    "y = data.usd\n",
    "x = data.drop('usd', axis=1)\n",
    "\n",
    "window = 12  # months\n",
    "model = PandasRollingOLS(y=y, x=x, window=window)\n",
    "display(data)\n",
    "# display(y.head())\n",
    "# display(x.head())\n",
    "display(model.beta.head())  # Coefficients excluding the intercept"
   ],
   "metadata": {
    "collapsed": false,
    "pycharm": {
     "name": "#%%\n",
     "is_executing": false
    }
   }
  },
  {
   "cell_type": "code",
   "execution_count": 3,
   "outputs": [
    {
     "name": "stdout",
     "text": [
      "DATE\n2001-01-01    0.130185\n2001-02-01    1.233725\n2001-03-01    3.052778\n2001-04-01    3.997404\n2001-05-01    3.855118\nName: fstat, dtype: float64\nDATE\n2001-01-01    0.028117\n2001-02-01    0.215170\n2001-03-01    0.404193\n2001-04-01    0.470427\n2001-05-01    0.461408\nName: rsq, dtype: float64\n"
     ],
     "output_type": "stream"
    },
    {
     "name": "stderr",
     "text": [
      "/usr/local/lib/python3.7/site-packages/pyfinance/ols.py:507: RuntimeWarning: invalid value encountered in true_divide\n  return self._ms_reg / self._ms_err\n/usr/local/lib/python3.7/site-packages/pyfinance/ols.py:485: RuntimeWarning: invalid value encountered in true_divide\n  return self._ss_reg / self._ss_tot\n"
     ],
     "output_type": "stream"
    }
   ],
   "source": [
    "#             term_spread      gold\n",
    "# DATE                             \n",
    "# 2001-01-01     0.000033 -0.054261\n",
    "# 2001-02-01     0.000277 -0.188556\n",
    "# 2001-03-01     0.002432 -0.294865\n",
    "# 2001-04-01     0.002796 -0.334880\n",
    "# 2001-05-01     0.002448 -0.241902\n",
    "\n",
    "print(model.fstat.head())\n",
    "# DATE\n",
    "# 2001-01-01    0.136991\n",
    "# 2001-02-01    1.233794\n",
    "# 2001-03-01    3.053000\n",
    "# 2001-04-01    3.997486\n",
    "# 2001-05-01    3.855118\n",
    "# Name: fstat, dtype: float64\n",
    "\n",
    "print(model.rsq.head())  # R-squared\n",
    "# DATE\n",
    "# 2001-01-01    0.029543\n",
    "# 2001-02-01    0.215179\n",
    "# 2001-03-01    0.404210\n",
    "# 2001-04-01    0.470432\n",
    "# 2001-05-01    0.461408\n",
    "# Name: rsq, dtype: float64\n"
   ],
   "metadata": {
    "collapsed": false,
    "pycharm": {
     "name": "#%%\n",
     "is_executing": false
    }
   }
  },
  {
   "cell_type": "code",
   "execution_count": null,
   "outputs": [],
   "source": [
    "\n"
   ],
   "metadata": {
    "collapsed": false,
    "pycharm": {
     "name": "#%%\n"
    }
   }
  }
 ],
 "metadata": {
  "language_info": {
   "codemirror_mode": {
    "name": "ipython",
    "version": 2
   },
   "file_extension": ".py",
   "mimetype": "text/x-python",
   "name": "python",
   "nbconvert_exporter": "python",
   "pygments_lexer": "ipython2",
   "version": "2.7.6"
  },
  "kernelspec": {
   "name": "python3",
   "language": "python",
   "display_name": "Python 3"
  },
  "pycharm": {
   "stem_cell": {
    "cell_type": "raw",
    "source": [],
    "metadata": {
     "collapsed": false
    }
   }
  }
 },
 "nbformat": 4,
 "nbformat_minor": 0
}
